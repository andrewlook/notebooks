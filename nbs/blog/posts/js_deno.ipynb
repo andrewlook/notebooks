{
 "cells": [
  {
   "cell_type": "raw",
   "id": "e4c819c1-4874-4504-9aab-44e742878991",
   "metadata": {},
   "source": [
    "---\n",
    "draft: true\n",
    "title: \"JS playground\"\n",
    "description: some-description\n",
    "categories: [singleline, machinelearning, slml]\n",
    "author: Andrew Look\n",
    "date: 2023-12-01\n",
    "image: https://i.ibb.co/D7JyvM2/autotrace-points.png\n",
    "sidebar: false\n",
    "comments:\n",
    "  utterances:\n",
    "    repo: andrewlook/notebooks\n",
    "---"
   ]
  },
  {
   "cell_type": "markdown",
   "id": "e46effb1-06d1-4167-a28c-7db3fb2507d8",
   "metadata": {},
   "source": [
    "useful:\n",
    "- [rgbkrk/denotebooks: 🦕 Deno by Example, in Notebooks!](https://github.com/rgbkrk/denotebooks)\n",
    "- [Jupyter Kernel for Deno | Deno Docs](https://docs.deno.com/runtime/manual/tools/jupyter)"
   ]
  },
  {
   "cell_type": "code",
   "execution_count": null,
   "id": "39e16254-78f4-4c04-8ed0-a8ca83e084c4",
   "metadata": {},
   "outputs": [],
   "source": [
    "import * as pl from \"npm:nodejs-polars\";"
   ]
  },
  {
   "cell_type": "code",
   "execution_count": null,
   "id": "65787cee-5ba8-40af-a032-7189245118ed",
   "metadata": {},
   "outputs": [],
   "source": [
    "let df = pl.DataFrame({\"A\": [1,2], \"B\": [3,4]});"
   ]
  },
  {
   "cell_type": "code",
   "execution_count": null,
   "id": "c860be08-6aff-4b95-b910-daf26f6e7896",
   "metadata": {},
   "outputs": [
    {
     "name": "stdout",
     "output_type": "stream",
     "text": [
      "┌───────┬───┬───┐\n",
      "│ (idx) │ 0 │ 1 │\n",
      "├───────┼───┼───┤\n",
      "│     0 │ 1 │ 3 │\n",
      "│     1 │ 2 │ 4 │\n",
      "└───────┴───┴───┘\n"
     ]
    }
   ],
   "source": [
    "console.table(df.rows())"
   ]
  },
  {
   "cell_type": "code",
   "execution_count": null,
   "id": "71d675e5-a82a-4dbb-97e2-f038a3b441c6",
   "metadata": {},
   "outputs": [],
   "source": []
  },
  {
   "cell_type": "code",
   "execution_count": null,
   "id": "f7c25767-1cab-4bcc-bf48-26c5efc5d652",
   "metadata": {},
   "outputs": [],
   "source": []
  },
  {
   "cell_type": "code",
   "execution_count": null,
   "id": "408dc5a5-9f89-412f-b375-2e1025daaae5",
   "metadata": {},
   "outputs": [],
   "source": [
    "import {display} from \"https://deno.land/x/display@v0.1.1/mod.ts\""
   ]
  },
  {
   "cell_type": "code",
   "execution_count": null,
   "id": "182ac07c-fad6-41ac-aa93-f9ede238bbae",
   "metadata": {},
   "outputs": [
    {
     "data": {
      "application/vnd.dataresource+json": {
       "data": [
        {
         "abbrev": "Kos.",
         "abbrev_len": 4,
         "adm0_a3": "KOS",
         "adm0_a3_is": "SRB",
         "adm0_a3_un": -99,
         "adm0_a3_us": "KOS",
         "adm0_a3_wb": -99,
         "adm0_dif": 0,
         "admin": "Kosovo",
         "brk_a3": "B57",
         "brk_diff": 1,
         "brk_group": null,
         "brk_name": "Kosovo",
         "continent": "Europe",
         "economy": "6. Developing region",
         "featurecla": "Admin-0 country",
         "fips_10": null,
         "formal_en": "Republic of Kosovo",
         "formal_fr": null,
         "gdp_md_est": 5352,
         "gdp_year": -99,
         "geou_dif": 0,
         "geounit": "Kosovo",
         "gu_a3": "KOS",
         "homepart": 1,
         "income_grp": "4. Lower middle income",
         "iso_a2": "-99",
         "iso_a3": "-99",
         "iso_n3": -99,
         "labelrank": 6,
         "lastcensus": 1981,
         "level": 2,
         "long_len": 6,
         "mapcolor13": 11,
         "mapcolor7": 2,
         "mapcolor8": 2,
         "mapcolor9": 3,
         "name": "Kosovo",
         "name_alt": null,
         "name_len": 6,
         "name_long": "Kosovo",
         "name_sort": "Kosovo",
         "note_adm0": null,
         "note_brk": "Self admin.; Claimed by Serbia",
         "pop_est": 1804838,
         "pop_year": -99,
         "postal": "KO",
         "region_un": "Europe",
         "region_wb": "Europe & Central Asia",
         "scalerank": 1,
         "sov_a3": "KOS",
         "sovereignt": "Kosovo",
         "su_a3": "KOS",
         "su_dif": 0,
         "subregion": "Southern Europe",
         "subunit": "Kosovo",
         "tiny": -99,
         "type": "Sovereign country",
         "un_a3": -99,
         "wb_a2": "KV",
         "wb_a3": "KSV",
         "wikipedia": -99,
         "woe_id": -99
        },
        {
         "abbrev": "Solnd.",
         "abbrev_len": 6,
         "adm0_a3": "SOL",
         "adm0_a3_is": "SOM",
         "adm0_a3_un": -99,
         "adm0_a3_us": "SOM",
         "adm0_a3_wb": -99,
         "adm0_dif": 0,
         "admin": "Somaliland",
         "brk_a3": "B30",
         "brk_diff": 1,
         "brk_group": null,
         "brk_name": "Somaliland",
         "continent": "Africa",
         "economy": "6. Developing region",
         "featurecla": "Admin-0 country",
         "fips_10": null,
         "formal_en": "Republic of Somaliland",
         "formal_fr": null,
         "gdp_md_est": 12250,
         "gdp_year": -99,
         "geou_dif": 0,
         "geounit": "Somaliland",
         "gu_a3": "SOL",
         "homepart": 1,
         "income_grp": "4. Lower middle income",
         "iso_a2": "-99",
         "iso_a3": "-99",
         "iso_n3": -99,
         "labelrank": 5,
         "lastcensus": -99,
         "level": 2,
         "long_len": 10,
         "mapcolor13": 2,
         "mapcolor7": 3,
         "mapcolor8": 6,
         "mapcolor9": 5,
         "name": "Somaliland",
         "name_alt": null,
         "name_len": 10,
         "name_long": "Somaliland",
         "name_sort": "Somaliland",
         "note_adm0": "Self admin.",
         "note_brk": "Self admin.; Claimed by Somalia",
         "pop_est": 3500000,
         "pop_year": -99,
         "postal": "SL",
         "region_un": "Africa",
         "region_wb": "Sub-Saharan Africa",
         "scalerank": 1,
         "sov_a3": "SOL",
         "sovereignt": "Somaliland",
         "su_a3": "SOL",
         "su_dif": 0,
         "subregion": "Eastern Africa",
         "subunit": "Somaliland",
         "tiny": -99,
         "type": "Indeterminate",
         "un_a3": -99,
         "wb_a2": "-99",
         "wb_a3": "-99",
         "wikipedia": -99,
         "woe_id": -99
        },
        {
         "abbrev": "N. Cy.",
         "abbrev_len": 6,
         "adm0_a3": "CYN",
         "adm0_a3_is": "CYP",
         "adm0_a3_un": -99,
         "adm0_a3_us": "CYP",
         "adm0_a3_wb": -99,
         "adm0_dif": 0,
         "admin": "Northern Cyprus",
         "brk_a3": "B20",
         "brk_diff": 1,
         "brk_group": null,
         "brk_name": "N. Cyprus",
         "continent": "Asia",
         "economy": "6. Developing region",
         "featurecla": "Admin-0 country",
         "fips_10": null,
         "formal_en": "Turkish Republic of Northern Cyprus",
         "formal_fr": null,
         "gdp_md_est": 3600,
         "gdp_year": -99,
         "geou_dif": 0,
         "geounit": "Northern Cyprus",
         "gu_a3": "CYN",
         "homepart": 1,
         "income_grp": "3. Upper middle income",
         "iso_a2": "-99",
         "iso_a3": "-99",
         "iso_n3": -99,
         "labelrank": 6,
         "lastcensus": -99,
         "level": 2,
         "long_len": 15,
         "mapcolor13": 8,
         "mapcolor7": 3,
         "mapcolor8": 1,
         "mapcolor9": 4,
         "name": "N. Cyprus",
         "name_alt": null,
         "name_len": 9,
         "name_long": "Northern Cyprus",
         "name_sort": "Cyprus, Northern",
         "note_adm0": "Self admin.",
         "note_brk": "Self admin.; Claimed by Cyprus",
         "pop_est": 265100,
         "pop_year": -99,
         "postal": "CN",
         "region_un": "Asia",
         "region_wb": "Europe & Central Asia",
         "scalerank": 1,
         "sov_a3": "CYN",
         "sovereignt": "Northern Cyprus",
         "su_a3": "CYN",
         "su_dif": 0,
         "subregion": "Western Asia",
         "subunit": "Northern Cyprus",
         "tiny": -99,
         "type": "Sovereign country",
         "un_a3": -99,
         "wb_a2": "-99",
         "wb_a3": "-99",
         "wikipedia": -99,
         "woe_id": -99
        },
        {
         "abbrev": "Afg.",
         "abbrev_len": 4,
         "adm0_a3": "AFG",
         "adm0_a3_is": "AFG",
         "adm0_a3_un": -99,
         "adm0_a3_us": "AFG",
         "adm0_a3_wb": -99,
         "adm0_dif": 0,
         "admin": "Afghanistan",
         "brk_a3": "AFG",
         "brk_diff": 0,
         "brk_group": null,
         "brk_name": "Afghanistan",
         "continent": "Asia",
         "economy": "7. Least developed region",
         "featurecla": "Admin-0 country",
         "fips_10": null,
         "formal_en": "Islamic State of Afghanistan",
         "formal_fr": null,
         "gdp_md_est": 22270,
         "gdp_year": -99,
         "geou_dif": 0,
         "geounit": "Afghanistan",
         "gu_a3": "AFG",
         "homepart": 1,
         "income_grp": "5. Low income",
         "iso_a2": "AF",
         "iso_a3": "AFG",
         "iso_n3": 4,
         "labelrank": 3,
         "lastcensus": 1979,
         "level": 2,
         "long_len": 11,
         "mapcolor13": 7,
         "mapcolor7": 5,
         "mapcolor8": 6,
         "mapcolor9": 8,
         "name": "Afghanistan",
         "name_alt": null,
         "name_len": 11,
         "name_long": "Afghanistan",
         "name_sort": "Afghanistan",
         "note_adm0": null,
         "note_brk": null,
         "pop_est": 28400000,
         "pop_year": -99,
         "postal": "AF",
         "region_un": "Asia",
         "region_wb": "South Asia",
         "scalerank": 1,
         "sov_a3": "AFG",
         "sovereignt": "Afghanistan",
         "su_a3": "AFG",
         "su_dif": 0,
         "subregion": "Southern Asia",
         "subunit": "Afghanistan",
         "tiny": -99,
         "type": "Sovereign country",
         "un_a3": 4,
         "wb_a2": "AF",
         "wb_a3": "AFG",
         "wikipedia": -99,
         "woe_id": -99
        },
        {
         "abbrev": "Ang.",
         "abbrev_len": 4,
         "adm0_a3": "AGO",
         "adm0_a3_is": "AGO",
         "adm0_a3_un": -99,
         "adm0_a3_us": "AGO",
         "adm0_a3_wb": -99,
         "adm0_dif": 0,
         "admin": "Angola",
         "brk_a3": "AGO",
         "brk_diff": 0,
         "brk_group": null,
         "brk_name": "Angola",
         "continent": "Africa",
         "economy": "7. Least developed region",
         "featurecla": "Admin-0 country",
         "fips_10": null,
         "formal_en": "People's Republic of Angola",
         "formal_fr": null,
         "gdp_md_est": 110300,
         "gdp_year": -99,
         "geou_dif": 0,
         "geounit": "Angola",
         "gu_a3": "AGO",
         "homepart": 1,
         "income_grp": "3. Upper middle income",
         "iso_a2": "AO",
         "iso_a3": "AGO",
         "iso_n3": 24,
         "labelrank": 3,
         "lastcensus": 1970,
         "level": 2,
         "long_len": 6,
         "mapcolor13": 1,
         "mapcolor7": 3,
         "mapcolor8": 2,
         "mapcolor9": 6,
         "name": "Angola",
         "name_alt": null,
         "name_len": 6,
         "name_long": "Angola",
         "name_sort": "Angola",
         "note_adm0": null,
         "note_brk": null,
         "pop_est": 12799293,
         "pop_year": -99,
         "postal": "AO",
         "region_un": "Africa",
         "region_wb": "Sub-Saharan Africa",
         "scalerank": 1,
         "sov_a3": "AGO",
         "sovereignt": "Angola",
         "su_a3": "AGO",
         "su_dif": 0,
         "subregion": "Middle Africa",
         "subunit": "Angola",
         "tiny": -99,
         "type": "Sovereign country",
         "un_a3": 24,
         "wb_a2": "AO",
         "wb_a3": "AGO",
         "wikipedia": -99,
         "woe_id": -99
        }
       ],
       "schema": {
        "fields": [
         {
          "name": "scalerank",
          "type": "integer"
         },
         {
          "name": "featurecla",
          "type": "string"
         },
         {
          "name": "labelrank",
          "type": "integer"
         },
         {
          "name": "sovereignt",
          "type": "string"
         },
         {
          "name": "sov_a3",
          "type": "string"
         },
         {
          "name": "adm0_dif",
          "type": "integer"
         },
         {
          "name": "level",
          "type": "integer"
         },
         {
          "name": "type",
          "type": "string"
         },
         {
          "name": "admin",
          "type": "string"
         },
         {
          "name": "adm0_a3",
          "type": "string"
         },
         {
          "name": "geou_dif",
          "type": "integer"
         },
         {
          "name": "geounit",
          "type": "string"
         },
         {
          "name": "gu_a3",
          "type": "string"
         },
         {
          "name": "su_dif",
          "type": "integer"
         },
         {
          "name": "subunit",
          "type": "string"
         },
         {
          "name": "su_a3",
          "type": "string"
         },
         {
          "name": "brk_diff",
          "type": "integer"
         },
         {
          "name": "name",
          "type": "string"
         },
         {
          "name": "name_long",
          "type": "string"
         },
         {
          "name": "brk_a3",
          "type": "string"
         },
         {
          "name": "brk_name",
          "type": "string"
         },
         {
          "name": "brk_group",
          "type": "string"
         },
         {
          "name": "abbrev",
          "type": "string"
         },
         {
          "name": "postal",
          "type": "string"
         },
         {
          "name": "formal_en",
          "type": "string"
         },
         {
          "name": "formal_fr",
          "type": "string"
         },
         {
          "name": "note_adm0",
          "type": "string"
         },
         {
          "name": "note_brk",
          "type": "string"
         },
         {
          "name": "name_sort",
          "type": "string"
         },
         {
          "name": "name_alt",
          "type": "string"
         },
         {
          "name": "mapcolor7",
          "type": "integer"
         },
         {
          "name": "mapcolor8",
          "type": "integer"
         },
         {
          "name": "mapcolor9",
          "type": "integer"
         },
         {
          "name": "mapcolor13",
          "type": "integer"
         },
         {
          "name": "pop_est",
          "type": "integer"
         },
         {
          "name": "gdp_md_est",
          "type": "number"
         },
         {
          "name": "pop_year",
          "type": "integer"
         },
         {
          "name": "lastcensus",
          "type": "integer"
         },
         {
          "name": "gdp_year",
          "type": "integer"
         },
         {
          "name": "economy",
          "type": "string"
         },
         {
          "name": "income_grp",
          "type": "string"
         },
         {
          "name": "wikipedia",
          "type": "integer"
         },
         {
          "name": "fips_10",
          "type": "string"
         },
         {
          "name": "iso_a2",
          "type": "string"
         },
         {
          "name": "iso_a3",
          "type": "string"
         },
         {
          "name": "iso_n3",
          "type": "integer"
         },
         {
          "name": "un_a3",
          "type": "integer"
         },
         {
          "name": "wb_a2",
          "type": "string"
         },
         {
          "name": "wb_a3",
          "type": "string"
         },
         {
          "name": "woe_id",
          "type": "integer"
         },
         {
          "name": "adm0_a3_is",
          "type": "string"
         },
         {
          "name": "adm0_a3_us",
          "type": "string"
         },
         {
          "name": "adm0_a3_un",
          "type": "integer"
         },
         {
          "name": "adm0_a3_wb",
          "type": "integer"
         },
         {
          "name": "continent",
          "type": "string"
         },
         {
          "name": "region_un",
          "type": "string"
         },
         {
          "name": "subregion",
          "type": "string"
         },
         {
          "name": "region_wb",
          "type": "string"
         },
         {
          "name": "name_len",
          "type": "integer"
         },
         {
          "name": "long_len",
          "type": "integer"
         },
         {
          "name": "abbrev_len",
          "type": "integer"
         },
         {
          "name": "tiny",
          "type": "integer"
         },
         {
          "name": "homepart",
          "type": "integer"
         }
        ]
       }
      },
      "text/html": [
       "<table><thead><tr><th>scalerank</th><th>featurecla</th><th>labelrank</th><th>sovereignt</th><th>sov_a3</th><th>adm0_dif</th><th>level</th><th>type</th><th>admin</th><th>adm0_a3</th><th>geou_dif</th><th>geounit</th><th>gu_a3</th><th>su_dif</th><th>subunit</th><th>su_a3</th><th>brk_diff</th><th>name</th><th>name_long</th><th>brk_a3</th><th>brk_name</th><th>brk_group</th><th>abbrev</th><th>postal</th><th>formal_en</th><th>formal_fr</th><th>note_adm0</th><th>note_brk</th><th>name_sort</th><th>name_alt</th><th>mapcolor7</th><th>mapcolor8</th><th>mapcolor9</th><th>mapcolor13</th><th>pop_est</th><th>gdp_md_est</th><th>pop_year</th><th>lastcensus</th><th>gdp_year</th><th>economy</th><th>income_grp</th><th>wikipedia</th><th>fips_10</th><th>iso_a2</th><th>iso_a3</th><th>iso_n3</th><th>un_a3</th><th>wb_a2</th><th>wb_a3</th><th>woe_id</th><th>adm0_a3_is</th><th>adm0_a3_us</th><th>adm0_a3_un</th><th>adm0_a3_wb</th><th>continent</th><th>region_un</th><th>subregion</th><th>region_wb</th><th>name_len</th><th>long_len</th><th>abbrev_len</th><th>tiny</th><th>homepart</th></tr></thead><tbody><tr><td>1</td><td>Admin-0 country</td><td>6</td><td>Kosovo</td><td>KOS</td><td>0</td><td>2</td><td>Sovereign country</td><td>Kosovo</td><td>KOS</td><td>0</td><td>Kosovo</td><td>KOS</td><td>0</td><td>Kosovo</td><td>KOS</td><td>1</td><td>Kosovo</td><td>Kosovo</td><td>B57</td><td>Kosovo</td><td>null</td><td>Kos.</td><td>KO</td><td>Republic of Kosovo</td><td>null</td><td>null</td><td>Self admin.; Claimed by Serbia</td><td>Kosovo</td><td>null</td><td>2</td><td>2</td><td>3</td><td>11</td><td>1804838</td><td>5352</td><td>-99</td><td>1981</td><td>-99</td><td>6. Developing region</td><td>4. Lower middle income</td><td>-99</td><td>null</td><td>-99</td><td>-99</td><td>-99</td><td>-99</td><td>KV</td><td>KSV</td><td>-99</td><td>SRB</td><td>KOS</td><td>-99</td><td>-99</td><td>Europe</td><td>Europe</td><td>Southern Europe</td><td>Europe &amp; Central Asia</td><td>6</td><td>6</td><td>4</td><td>-99</td><td>1</td></tr><tr><td>1</td><td>Admin-0 country</td><td>5</td><td>Somaliland</td><td>SOL</td><td>0</td><td>2</td><td>Indeterminate</td><td>Somaliland</td><td>SOL</td><td>0</td><td>Somaliland</td><td>SOL</td><td>0</td><td>Somaliland</td><td>SOL</td><td>1</td><td>Somaliland</td><td>Somaliland</td><td>B30</td><td>Somaliland</td><td>null</td><td>Solnd.</td><td>SL</td><td>Republic of Somaliland</td><td>null</td><td>Self admin.</td><td>Self admin.; Claimed by Somalia</td><td>Somaliland</td><td>null</td><td>3</td><td>6</td><td>5</td><td>2</td><td>3500000</td><td>12250</td><td>-99</td><td>-99</td><td>-99</td><td>6. Developing region</td><td>4. Lower middle income</td><td>-99</td><td>null</td><td>-99</td><td>-99</td><td>-99</td><td>-99</td><td>-99</td><td>-99</td><td>-99</td><td>SOM</td><td>SOM</td><td>-99</td><td>-99</td><td>Africa</td><td>Africa</td><td>Eastern Africa</td><td>Sub-Saharan Africa</td><td>10</td><td>10</td><td>6</td><td>-99</td><td>1</td></tr><tr><td>1</td><td>Admin-0 country</td><td>6</td><td>Northern Cyprus</td><td>CYN</td><td>0</td><td>2</td><td>Sovereign country</td><td>Northern Cyprus</td><td>CYN</td><td>0</td><td>Northern Cyprus</td><td>CYN</td><td>0</td><td>Northern Cyprus</td><td>CYN</td><td>1</td><td>N. Cyprus</td><td>Northern Cyprus</td><td>B20</td><td>N. Cyprus</td><td>null</td><td>N. Cy.</td><td>CN</td><td>Turkish Republic of Northern Cyprus</td><td>null</td><td>Self admin.</td><td>Self admin.; Claimed by Cyprus</td><td>Cyprus, Northern</td><td>null</td><td>3</td><td>1</td><td>4</td><td>8</td><td>265100</td><td>3600</td><td>-99</td><td>-99</td><td>-99</td><td>6. Developing region</td><td>3. Upper middle income</td><td>-99</td><td>null</td><td>-99</td><td>-99</td><td>-99</td><td>-99</td><td>-99</td><td>-99</td><td>-99</td><td>CYP</td><td>CYP</td><td>-99</td><td>-99</td><td>Asia</td><td>Asia</td><td>Western Asia</td><td>Europe &amp; Central Asia</td><td>9</td><td>15</td><td>6</td><td>-99</td><td>1</td></tr><tr><td>1</td><td>Admin-0 country</td><td>3</td><td>Afghanistan</td><td>AFG</td><td>0</td><td>2</td><td>Sovereign country</td><td>Afghanistan</td><td>AFG</td><td>0</td><td>Afghanistan</td><td>AFG</td><td>0</td><td>Afghanistan</td><td>AFG</td><td>0</td><td>Afghanistan</td><td>Afghanistan</td><td>AFG</td><td>Afghanistan</td><td>null</td><td>Afg.</td><td>AF</td><td>Islamic State of Afghanistan</td><td>null</td><td>null</td><td>null</td><td>Afghanistan</td><td>null</td><td>5</td><td>6</td><td>8</td><td>7</td><td>28400000</td><td>22270</td><td>-99</td><td>1979</td><td>-99</td><td>7. Least developed region</td><td>5. Low income</td><td>-99</td><td>null</td><td>AF</td><td>AFG</td><td>4</td><td>4</td><td>AF</td><td>AFG</td><td>-99</td><td>AFG</td><td>AFG</td><td>-99</td><td>-99</td><td>Asia</td><td>Asia</td><td>Southern Asia</td><td>South Asia</td><td>11</td><td>11</td><td>4</td><td>-99</td><td>1</td></tr><tr><td>1</td><td>Admin-0 country</td><td>3</td><td>Angola</td><td>AGO</td><td>0</td><td>2</td><td>Sovereign country</td><td>Angola</td><td>AGO</td><td>0</td><td>Angola</td><td>AGO</td><td>0</td><td>Angola</td><td>AGO</td><td>0</td><td>Angola</td><td>Angola</td><td>AGO</td><td>Angola</td><td>null</td><td>Ang.</td><td>AO</td><td>People&#39;s Republic of Angola</td><td>null</td><td>null</td><td>null</td><td>Angola</td><td>null</td><td>3</td><td>2</td><td>6</td><td>1</td><td>12799293</td><td>110300</td><td>-99</td><td>1970</td><td>-99</td><td>7. Least developed region</td><td>3. Upper middle income</td><td>-99</td><td>null</td><td>AO</td><td>AGO</td><td>24</td><td>24</td><td>AO</td><td>AGO</td><td>-99</td><td>AGO</td><td>AGO</td><td>-99</td><td>-99</td><td>Africa</td><td>Africa</td><td>Middle Africa</td><td>Sub-Saharan Africa</td><td>6</td><td>6</td><td>4</td><td>-99</td><td>1</td></tr></tbody></table>"
      ]
     },
     "execution_count": null,
     "metadata": {},
     "output_type": "execute_result"
    }
   ],
   "source": [
    "import pl from \"npm:nodejs-polars@0.8.3\"; // note: version needed for tab-sep fix https://github.com/pola-rs/nodejs-polars/issues/155\n",
    "let response = await fetch(\n",
    "  \"https://cdn.jsdelivr.net/npm/world-atlas@1/world/110m.tsv\",\n",
    ");\n",
    "let data = await response.text();\n",
    "let df = pl.readCSV(data, { sep: \"\\t\" });\n",
    "df.head()"
   ]
  },
  {
   "cell_type": "code",
   "execution_count": null,
   "id": "aed75766-c14e-4805-835a-3056c6a2a798",
   "metadata": {},
   "outputs": [],
   "source": []
  },
  {
   "cell_type": "code",
   "execution_count": null,
   "id": "4045dc5f-6f0c-4f30-9b5f-8ba34e957054",
   "metadata": {},
   "outputs": [
    {
     "data": {
      "application/vnd.dataresource+json": {
       "data": [
        {
         "continent": "Africa",
         "total_pop_est": 993281878
        },
        {
         "continent": "Antarctica",
         "total_pop_est": 3802
        },
        {
         "continent": "Asia",
         "total_pop_est": 4085852698
        },
        {
         "continent": "Europe",
         "total_pop_est": 728131201
        },
        {
         "continent": "North America",
         "total_pop_est": 539350981
        },
        {
         "continent": "Oceania",
         "total_pop_est": 33519610
        },
        {
         "continent": "Seven seas (open ocean)",
         "total_pop_est": 140
        },
        {
         "continent": "South America",
         "total_pop_est": 394355478
        }
       ],
       "schema": {
        "fields": [
         {
          "name": "continent",
          "type": "string"
         },
         {
          "name": "total_pop_est",
          "type": "integer"
         }
        ]
       }
      },
      "text/html": [
       "<table><thead><tr><th>continent</th><th>total_pop_est</th></tr></thead><tbody><tr><td>Africa</td><td>993281878</td></tr><tr><td>Antarctica</td><td>3802</td></tr><tr><td>Asia</td><td>4085852698</td></tr><tr><td>Europe</td><td>728131201</td></tr><tr><td>North America</td><td>539350981</td></tr><tr><td>Oceania</td><td>33519610</td></tr><tr><td>Seven seas (open ocean)</td><td>140</td></tr><tr><td>South America</td><td>394355478</td></tr></tbody></table>"
      ]
     },
     "execution_count": null,
     "metadata": {},
     "output_type": "execute_result"
    }
   ],
   "source": [
    "df = df\n",
    "    .groupBy(\"continent\")\n",
    "    .agg(pl.col(\"pop_est\").sum().alias(\"total_pop_est\"))\n",
    "\n",
    "df = df.sort(\"continent\")\n",
    "\n",
    "display(df)"
   ]
  },
  {
   "cell_type": "code",
   "execution_count": null,
   "id": "e2cd63cb-3313-4786-b3db-125a24d89679",
   "metadata": {},
   "outputs": [],
   "source": [
    "import * as d3 from \"npm:d3\"\n",
    "\n",
    "const canvasHeight = 400;\n",
    "const max = d3.max(df.total_pop_est)\n",
    "const xScaleSorted = d3.scaleLinear().domain([0,max]).range([0,300])\n",
    "const yScaleSorted = d3.scaleBand().domain(df.continent).range([0, canvasHeight]).padding(0.1);"
   ]
  },
  {
   "cell_type": "code",
   "execution_count": null,
   "id": "c77e3cf5-c705-48b3-be3b-fed74610747f",
   "metadata": {},
   "outputs": [],
   "source": [
    "// import {createCanvas, Image, Path2D} from \"https://deno.land/x/skia_canvas/mod.ts\""
   ]
  },
  {
   "cell_type": "code",
   "execution_count": null,
   "id": "e33bc4db-5b76-4a14-b671-e8505e7fa522",
   "metadata": {},
   "outputs": [],
   "source": [
    "// const canvas = createCanvas(400, 300);\n",
    "// const ctx = canvas.getContext(\"2d\");\n",
    "\n",
    "// df.toRecords().forEach((record, i) => {\n",
    "//     const y = yScaleSorted(record.continent)\n",
    "//     const width = xScaleSorted(record.total_pop_est)\n",
    "//     const height = yScaleSorted.bandwidth()\n",
    "\n",
    "//     ctx.fillStyle = width < xScaleSorted(max) ? \"#8787A7\" : \"575787\"\n",
    "//     ctx.fillRect(0,y,width,height)\n",
    "//     ctx.fillStyle = \"#000\"\n",
    "//     ctx.fillText(record.continent, width+5, y + height/2)\n",
    "// })"
   ]
  },
  {
   "cell_type": "code",
   "execution_count": null,
   "id": "55df796f-a409-4e3f-8103-c2ddcf8752c1",
   "metadata": {},
   "outputs": [],
   "source": []
  },
  {
   "cell_type": "code",
   "execution_count": null,
   "id": "cdd9e3fb-0856-49d2-aa51-c56a655aba36",
   "metadata": {},
   "outputs": [],
   "source": []
  },
  {
   "cell_type": "markdown",
   "id": "cc7b1780-12a7-4983-90c1-46a724865c56",
   "metadata": {},
   "source": [
    "above, skia-canvas didn't seem to want to install.\n",
    "\n",
    "Trying a different approach from here: [d3-tslab-example.ipynb](https://gist.github.com/smoofra/4e7d826c68dd95541a5e1ba54bf05383)"
   ]
  },
  {
   "cell_type": "code",
   "execution_count": null,
   "id": "6cbaa536-c31d-426b-affc-75f401057ee6",
   "metadata": {},
   "outputs": [],
   "source": [
    "import { JSDOM } from \"npm:jsdom\";\n",
    "import * as d3 from \"npm:d3\";"
   ]
  },
  {
   "cell_type": "code",
   "execution_count": null,
   "id": "83ced65c-5ed4-4f31-b465-49167881cdad",
   "metadata": {},
   "outputs": [
    {
     "data": {
      "text/plain": [
       "\u001b[32m'<svg width=\"200\" height=\"200\" xmlns=\"http://www.w3.org/2000/svg\"><circle cx=\"100\" cy=\"100\" r=\"90\" st'\u001b[39m... 34 more characters"
      ]
     },
     "execution_count": null,
     "metadata": {},
     "output_type": "execute_result"
    }
   ],
   "source": [
    "const dom = new JSDOM(`<!DOCTYPE html><body></body>`);\n",
    "let body = d3.select(dom.window.document.querySelector(\"body\"))\n",
    "let svg = body.append('svg').attr('width', 200).attr('height', 200).attr('xmlns', 'http://www.w3.org/2000/svg');\n",
    "svg.append(\"circle\")\n",
    "    .attr(\"cx\", 100)\n",
    "    .attr(\"cy\", 100)\n",
    "    .attr(\"r\", 90)\n",
    "    .style(\"fill\", \"black\")\n",
    "body.html()"
   ]
  },
  {
   "cell_type": "code",
   "execution_count": null,
   "id": "b968bae9-41d9-41cb-96b3-94e856975d33",
   "metadata": {},
   "outputs": [
    {
     "data": {
      "text/plain": [
       "\u001b[32m'<svg width=\"200\" height=\"200\" xmlns=\"http://www.w3.org/2000/svg\"><circle cx=\"100\" cy=\"100\" r=\"90\" st'\u001b[39m... 34 more characters"
      ]
     },
     "metadata": {},
     "output_type": "display_data"
    }
   ],
   "source": [
    "await Deno.jupyter.display(body.html())"
   ]
  },
  {
   "cell_type": "code",
   "execution_count": null,
   "id": "3bd60a8d-3d5e-46d9-b9ac-d3db797050b6",
   "metadata": {},
   "outputs": [
    {
     "name": "stdout",
     "output_type": "stream",
     "text": [
      "<svg width=\"200\" height=\"200\" xmlns=\"http://www.w3.org/2000/svg\"><circle cx=\"100\" cy=\"100\" r=\"90\" style=\"fill: black;\"></circle></svg>\n"
     ]
    }
   ],
   "source": [
    "console.log(body.html())"
   ]
  },
  {
   "cell_type": "code",
   "execution_count": null,
   "id": "76915874-84b3-40d5-b0e7-4976759fdd08",
   "metadata": {},
   "outputs": [
    {
     "data": {
      "image/svg+xml": [
       "<svg width=\"200\" height=\"200\" xmlns=\"http://www.w3.org/2000/svg\"><circle cx=\"100\" cy=\"100\" r=\"90\" style=\"fill: black;\"></circle></svg>"
      ]
     },
     "execution_count": null,
     "metadata": {},
     "output_type": "execute_result"
    }
   ],
   "source": [
    "// https://deno.land/api@v1.38.1?unstable=&s=Deno.jupyter.svg\n",
    "Deno.jupyter.svg`${body.html()}`"
   ]
  },
  {
   "cell_type": "code",
   "execution_count": null,
   "id": "c4e09181-8cd5-4a9e-8bf1-37cd7652587b",
   "metadata": {},
   "outputs": [
    {
     "data": {
      "image/svg+xml": [
       "<svg width=\"200\" height=\"200\" xmlns=\"http://www.w3.org/2000/svg\"><circle cx=\"100\" cy=\"100\" r=\"90\" style=\"fill: blue;\"></circle></svg>"
      ]
     },
     "execution_count": null,
     "metadata": {},
     "output_type": "execute_result"
    }
   ],
   "source": [
    "function showsvg(block) {\n",
    "   const dom = new JSDOM(`<!DOCTYPE html><body></body>`);\n",
    "   let body = d3.select(dom.window.document.querySelector(\"body\"))\n",
    "   let svg = body.append('svg').attr('width', 200).attr('height', 200).attr('xmlns', 'http://www.w3.org/2000/svg');\n",
    "   block(svg)\n",
    "   return Deno.jupyter.svg`${body.html()}`;\n",
    "}\n",
    "showsvg(svg => { \n",
    "    svg.append(\"circle\")\n",
    "    .attr(\"cx\", 100)\n",
    "    .attr(\"cy\", 100)\n",
    "    .attr(\"r\", 90)\n",
    "    .style(\"fill\", \"blue\")\n",
    "});"
   ]
  },
  {
   "cell_type": "code",
   "execution_count": null,
   "id": "78b8461c-39d2-4c95-b014-14877984e1dd",
   "metadata": {},
   "outputs": [
    {
     "data": {
      "image/svg+xml": [
       "<svg width=\"200\" height=\"200\" xmlns=\"http://www.w3.org/2000/svg\"><path d=\"M100,100L106.279,100.039L112.532,100.157L118.735,100.353L124.861,100.625L130.886,100.971L136.786,101.387L142.537,101.872L148.115,102.421L153.497,103.028L158.663,103.691L163.59,104.402L168.26,105.156L172.654,105.948L176.753,106.769L180.543,107.614L184.006,108.474L187.131,109.342L189.905,110.212L192.316,111.073L194.356,111.92L196.016,112.743L197.292,113.535L198.177,114.288L198.67,114.993L198.769,115.643L198.474,116.232L197.787,116.75L196.712,117.192L195.255,117.551L193.421,117.821L191.219,117.996L188.66,118.07L185.754,118.04L182.513,117.9L178.953,117.648L175.089,117.28L170.936,116.795L166.513,116.189L161.838,115.464L156.932,114.618L151.815,113.651L146.508,112.566L141.033,111.364L135.415,110.048L129.675,108.621L123.837,107.088L117.927,105.453L111.968,103.723L105.984,101.903L100,100L94.041,98.022L88.13,95.978L82.291,93.875L76.549,91.723L70.925,89.532L65.443,87.313L60.124,85.075L54.988,82.83L50.057,80.588L45.349,78.362L40.882,76.163L36.674,74.002L32.74,71.892L29.095,69.844L25.752,67.87L22.724,65.981L20.02,64.19L17.651,62.506L15.624,60.941L13.946,59.506L12.621,58.21L11.653,57.063L11.043,56.073L10.792,55.25L10.899,54.601L11.362,54.133L12.175,53.852L13.334,53.763L14.831,53.872L16.658,54.183L18.806,54.697L21.263,55.417L24.018,56.344L27.057,57.478L30.365,58.818L33.926,60.362L37.726,62.107L41.745,64.049L45.967,66.184L50.372,68.505L54.94,71.005L59.652,73.677L64.487,76.512L69.424,79.5L74.442,82.631L79.52,85.893L84.636,89.274L89.769,92.761L94.897,96.341L100,100L105.057,103.723L110.046,107.494L114.949,111.298L119.746,115.119L124.417,118.94L128.945,122.745L133.313,126.517L137.503,130.239L141.5,133.895L145.29,137.467L148.858,140.939L152.193,144.294L155.282,147.517L158.116,150.591L160.685,153.501L162.982,156.233L164.999,158.773L166.732,161.106L168.176,163.22L169.329,165.104L170.189,166.746L170.755,168.137L171.029,169.266L171.013,170.126L170.711,170.711L170.126,171.013L169.266,171.029L168.137,170.755L166.746,170.189L165.104,169.329L163.22,168.176L161.106,166.732L158.773,164.999L156.233,162.982L153.501,160.685L150.591,158.116L147.517,155.282L144.294,152.193L140.939,148.858L137.467,145.29L133.895,141.5L130.239,137.503L126.517,133.313L122.745,128.945L118.94,124.417L115.119,119.746L111.298,114.949L107.494,110.046L103.723,105.057L100,100L96.341,94.897L92.761,89.769L89.274,84.636L85.893,79.52L82.631,74.442L79.5,69.424L76.512,64.487L73.677,59.652L71.005,54.94L68.505,50.372L66.184,45.967L64.049,41.745L62.107,37.726L60.362,33.926L58.818,30.365L57.478,27.057L56.344,24.018L55.417,21.263L54.697,18.806L54.183,16.658L53.872,14.831L53.763,13.334L53.852,12.175L54.133,11.362L54.601,10.899L55.25,10.792L56.073,11.043L57.063,11.653L58.21,12.621L59.506,13.946L60.941,15.624L62.506,17.651L64.19,20.02L65.981,22.724L67.87,25.752L69.844,29.095L71.892,32.74L74.002,36.674L76.163,40.882L78.362,45.349L80.588,50.057L82.83,54.988L85.075,60.124L87.313,65.443L89.532,70.925L91.723,76.549L93.875,82.291L95.978,88.13L98.022,94.041L100,100L101.903,105.984L103.723,111.968L105.453,117.927L107.088,123.837L108.621,129.675L110.048,135.415L111.364,141.033L112.566,146.508L113.651,151.815L114.618,156.932L115.464,161.838L116.189,166.513L116.795,170.936L117.28,175.089L117.648,178.953L117.9,182.513L118.04,185.754L118.07,188.66L117.996,191.219L117.821,193.421L117.551,195.255L117.192,196.712L116.75,197.787L116.232,198.474L115.643,198.769L114.993,198.67L114.288,198.177L113.535,197.292L112.743,196.016L111.92,194.356L111.073,192.316L110.212,189.905L109.342,187.131L108.474,184.006L107.614,180.543L106.769,176.753L105.948,172.654L105.156,168.26L104.402,163.59L103.691,158.663L103.028,153.497L102.421,148.115L101.872,142.537L101.387,136.786L100.971,130.886L100.625,124.861L100.353,118.735L100.157,112.532L100.039,106.279L100,100L100.039,93.721L100.157,87.468L100.353,81.265L100.625,75.139L100.971,69.114L101.387,63.214L101.872,57.463L102.421,51.885L103.028,46.503L103.691,41.337L104.402,36.41L105.156,31.74L105.948,27.346L106.769,23.247L107.614,19.457L108.474,15.994L109.342,12.869L110.212,10.095L111.073,7.684L111.92,5.644L112.743,3.984L113.535,2.708L114.288,1.823L114.993,1.33L115.643,1.231L116.232,1.526L116.75,2.213L117.192,3.288L117.551,4.745L117.821,6.579L117.996,8.781L118.07,11.34L118.04,14.246L117.9,17.487L117.648,21.047L117.28,24.911L116.795,29.064L116.189,33.487L115.464,38.162L114.618,43.068L113.651,48.185L112.566,53.492L111.364,58.967L110.048,64.585L108.621,70.325L107.088,76.163L105.453,82.073L103.723,88.032L101.903,94.016L100,100L98.022,105.959L95.978,111.87L93.875,117.709L91.723,123.451L89.532,129.075L87.313,134.557L85.075,139.876L82.83,145.012L80.588,149.943L78.362,154.651L76.163,159.118L74.002,163.326L71.892,167.26L69.844,170.905L67.87,174.248L65.981,177.276L64.19,179.98L62.506,182.349L60.941,184.376L59.506,186.054L58.21,187.379L57.063,188.347L56.073,188.957L55.25,189.208L54.601,189.101L54.133,188.638L53.852,187.825L53.763,186.666L53.872,185.169L54.183,183.342L54.697,181.194L55.417,178.737L56.344,175.982L57.478,172.943L58.818,169.635L60.362,166.074L62.107,162.274L64.049,158.255L66.184,154.033L68.505,149.628L71.005,145.06L73.677,140.348L76.512,135.513L79.5,130.576L82.631,125.558L85.893,120.48L89.274,115.364L92.761,110.231L96.341,105.103L100,100L103.723,94.943L107.494,89.954L111.298,85.051L115.119,80.254L118.94,75.583L122.745,71.055L126.517,66.687L130.239,62.497L133.895,58.5L137.467,54.71L140.939,51.142L144.294,47.807L147.517,44.718L150.591,41.884L153.501,39.315L156.233,37.018L158.773,35.001L161.106,33.268L163.22,31.824L165.104,30.671L166.746,29.811L168.137,29.245L169.266,28.971L170.126,28.987L170.711,29.289L171.013,29.874L171.029,30.734L170.755,31.863L170.189,33.254L169.329,34.896L168.176,36.78L166.732,38.894L164.999,41.227L162.982,43.767L160.685,46.499L158.116,49.409L155.282,52.483L152.193,55.706L148.858,59.061L145.29,62.533L141.5,66.105L137.503,69.761L133.313,73.483L128.945,77.255L124.417,81.06L119.746,84.881L114.949,88.702L110.046,92.506L105.057,96.277L100,100L94.897,103.659L89.769,107.239L84.636,110.726L79.52,114.107L74.442,117.369L69.424,120.5L64.487,123.488L59.652,126.323L54.94,128.995L50.372,131.495L45.967,133.816L41.745,135.951L37.726,137.893L33.926,139.638L30.365,141.182L27.057,142.522L24.018,143.656L21.263,144.583L18.806,145.303L16.658,145.817L14.831,146.128L13.334,146.237L12.175,146.148L11.362,145.867L10.899,145.399L10.792,144.75L11.043,143.927L11.653,142.937L12.621,141.79L13.946,140.494L15.624,139.059L17.651,137.494L20.02,135.81L22.724,134.019L25.752,132.13L29.095,130.156L32.74,128.108L36.674,125.998L40.882,123.837L45.349,121.638L50.057,119.412L54.988,117.17L60.124,114.925L65.443,112.687L70.925,110.468L76.549,108.277L82.291,106.125L88.13,104.022L94.041,101.978L100,100L105.984,98.097L111.968,96.277L117.927,94.547L123.837,92.912L129.675,91.379L135.415,89.952L141.033,88.636L146.508,87.434L151.815,86.349L156.932,85.382L161.838,84.536L166.513,83.811L170.936,83.205L175.089,82.72L178.953,82.352L182.513,82.1L185.754,81.96L188.66,81.93L191.219,82.004L193.421,82.179L195.255,82.449L196.712,82.808L197.787,83.25L198.474,83.768L198.769,84.357L198.67,85.007L198.177,85.712L197.292,86.465L196.016,87.257L194.356,88.08L192.316,88.927L189.905,89.788L187.131,90.658L184.006,91.526L180.543,92.386L176.753,93.231L172.654,94.052L168.26,94.844L163.59,95.598L158.663,96.309L153.497,96.972L148.115,97.579L142.537,98.128L136.786,98.613L130.886,99.029L124.861,99.375L118.735,99.647L112.532,99.843L106.279,99.961L100,100L93.721,99.961L87.468,99.843L81.265,99.647L75.139,99.375L69.114,99.029L63.214,98.613L57.463,98.128L51.885,97.579L46.503,96.972L41.337,96.309L36.41,95.598L31.74,94.844L27.346,94.052L23.247,93.231L19.457,92.386L15.994,91.526L12.869,90.658L10.095,89.788L7.684,88.927L5.644,88.08L3.984,87.257L2.708,86.465L1.823,85.712L1.33,85.007L1.231,84.357L1.526,83.768L2.213,83.25L3.288,82.808L4.745,82.449L6.579,82.179L8.781,82.004L11.34,81.93L14.246,81.96L17.487,82.1L21.047,82.352L24.911,82.72L29.064,83.205L33.487,83.811L38.162,84.536L43.068,85.382L48.185,86.349L53.492,87.434L58.967,88.636L64.585,89.952L70.325,91.379L76.163,92.912L82.073,94.547L88.032,96.277L94.016,98.097L100,100L105.959,101.978L111.87,104.022L117.709,106.125L123.451,108.277L129.075,110.468L134.557,112.687L139.876,114.925L145.012,117.17L149.943,119.412L154.651,121.638L159.118,123.837L163.326,125.998L167.26,128.108L170.905,130.156L174.248,132.13L177.276,134.019L179.98,135.81L182.349,137.494L184.376,139.059L186.054,140.494L187.379,141.79L188.347,142.937L188.957,143.927L189.208,144.75L189.101,145.399L188.638,145.867L187.825,146.148L186.666,146.237L185.169,146.128L183.342,145.817L181.194,145.303L178.737,144.583L175.982,143.656L172.943,142.522L169.635,141.182L166.074,139.638L162.274,137.893L158.255,135.951L154.033,133.816L149.628,131.495L145.06,128.995L140.348,126.323L135.513,123.488L130.576,120.5L125.558,117.369L120.48,114.107L115.364,110.726L110.231,107.239L105.103,103.659L100,100L94.943,96.277L89.954,92.506L85.051,88.702L80.254,84.881L75.583,81.06L71.055,77.255L66.687,73.483L62.497,69.761L58.5,66.105L54.71,62.533L51.142,59.061L47.807,55.706L44.718,52.483L41.884,49.409L39.315,46.499L37.018,43.767L35.001,41.227L33.268,38.894L31.824,36.78L30.671,34.896L29.811,33.254L29.245,31.863L28.971,30.734L28.987,29.874L29.289,29.289L29.874,28.987L30.734,28.971L31.863,29.245L33.254,29.811L34.896,30.671L36.78,31.824L38.894,33.268L41.227,35.001L43.767,37.018L46.499,39.315L49.409,41.884L52.483,44.718L55.706,47.807L59.061,51.142L62.533,54.71L66.105,58.5L69.761,62.497L73.483,66.687L77.255,71.055L81.06,75.583L84.881,80.254L88.702,85.051L92.506,89.954L96.277,94.943L100,100L103.659,105.103L107.239,110.231L110.726,115.364L114.107,120.48L117.369,125.558L120.5,130.576L123.488,135.513L126.323,140.348L128.995,145.06L131.495,149.628L133.816,154.033L135.951,158.255L137.893,162.274L139.638,166.074L141.182,169.635L142.522,172.943L143.656,175.982L144.583,178.737L145.303,181.194L145.817,183.342L146.128,185.169L146.237,186.666L146.148,187.825L145.867,188.638L145.399,189.101L144.75,189.208L143.927,188.957L142.937,188.347L141.79,187.379L140.494,186.054L139.059,184.376L137.494,182.349L135.81,179.98L134.019,177.276L132.13,174.248L130.156,170.905L128.108,167.26L125.998,163.326L123.837,159.118L121.638,154.651L119.412,149.943L117.17,145.012L114.925,139.876L112.687,134.557L110.468,129.075L108.277,123.451L106.125,117.709L104.022,111.87L101.978,105.959L100,100L98.097,94.016L96.277,88.032L94.547,82.073L92.912,76.163L91.379,70.325L89.952,64.585L88.636,58.967L87.434,53.492L86.349,48.185L85.382,43.068L84.536,38.162L83.811,33.487L83.205,29.064L82.72,24.911L82.352,21.047L82.1,17.487L81.96,14.246L81.93,11.34L82.004,8.781L82.179,6.579L82.449,4.745L82.808,3.288L83.25,2.213L83.768,1.526L84.357,1.231L85.007,1.33L85.712,1.823L86.465,2.708L87.257,3.984L88.08,5.644L88.927,7.684L89.788,10.095L90.658,12.869L91.526,15.994L92.386,19.457L93.231,23.247L94.052,27.346L94.844,31.74L95.598,36.41L96.309,41.337L96.972,46.503L97.579,51.885L98.128,57.463L98.613,63.214L99.029,69.114L99.375,75.139L99.647,81.265L99.843,87.468L99.961,93.721L100,100L99.961,106.279L99.843,112.532L99.647,118.735L99.375,124.861L99.029,130.886L98.613,136.786L98.128,142.537L97.579,148.115L96.972,153.497L96.309,158.663L95.598,163.59L94.844,168.26L94.052,172.654L93.231,176.753L92.386,180.543L91.526,184.006L90.658,187.131L89.788,189.905L88.927,192.316L88.08,194.356L87.257,196.016L86.465,197.292L85.712,198.177L85.007,198.67L84.357,198.769L83.768,198.474L83.25,197.787L82.808,196.712L82.449,195.255L82.179,193.421L82.004,191.219L81.93,188.66L81.96,185.754L82.1,182.513L82.352,178.953L82.72,175.089L83.205,170.936L83.811,166.513L84.536,161.838L85.382,156.932L86.349,151.815L87.434,146.508L88.636,141.033L89.952,135.415L91.379,129.675L92.912,123.837L94.547,117.927L96.277,111.968L98.097,105.984L100,100L101.978,94.041L104.022,88.13L106.125,82.291L108.277,76.549L110.468,70.925L112.687,65.443L114.925,60.124L117.17,54.988L119.412,50.057L121.638,45.349L123.837,40.882L125.998,36.674L128.108,32.74L130.156,29.095L132.13,25.752L134.019,22.724L135.81,20.02L137.494,17.651L139.059,15.624L140.494,13.946L141.79,12.621L142.937,11.653L143.927,11.043L144.75,10.792L145.399,10.899L145.867,11.362L146.148,12.175L146.237,13.334L146.128,14.831L145.817,16.658L145.303,18.806L144.583,21.263L143.656,24.018L142.522,27.057L141.182,30.365L139.638,33.926L137.893,37.726L135.951,41.745L133.816,45.967L131.495,50.372L128.995,54.94L126.323,59.652L123.488,64.487L120.5,69.424L117.369,74.442L114.107,79.52L110.726,84.636L107.239,89.769L103.659,94.897L100,100L96.277,105.057L92.506,110.046L88.702,114.949L84.881,119.746L81.06,124.417L77.255,128.945L73.483,133.313L69.761,137.503L66.105,141.5L62.533,145.29L59.061,148.858L55.706,152.193L52.483,155.282L49.409,158.116L46.499,160.685L43.767,162.982L41.227,164.999L38.894,166.732L36.78,168.176L34.896,169.329L33.254,170.189L31.863,170.755L30.734,171.029L29.874,171.013L29.289,170.711L28.987,170.126L28.971,169.266L29.245,168.137L29.811,166.746L30.671,165.104L31.824,163.22L33.268,161.106L35.001,158.773L37.018,156.233L39.315,153.501L41.884,150.591L44.718,147.517L47.807,144.294L51.142,140.939L54.71,137.467L58.5,133.895L62.497,130.239L66.687,126.517L71.055,122.745L75.583,118.94L80.254,115.119L85.051,111.298L89.954,107.494L94.943,103.723L100,100L105.103,96.341L110.231,92.761L115.364,89.274L120.48,85.893L125.558,82.631L130.576,79.5L135.513,76.512L140.348,73.677L145.06,71.005L149.628,68.505L154.033,66.184L158.255,64.049L162.274,62.107L166.074,60.362L169.635,58.818L172.943,57.478L175.982,56.344L178.737,55.417L181.194,54.697L183.342,54.183L185.169,53.872L186.666,53.763L187.825,53.852L188.638,54.133L189.101,54.601L189.208,55.25L188.957,56.073L188.347,57.063L187.379,58.21L186.054,59.506L184.376,60.941L182.349,62.506L179.98,64.19L177.276,65.981L174.248,67.87L170.905,69.844L167.26,71.892L163.326,74.002L159.118,76.163L154.651,78.362L149.943,80.588L145.012,82.83L139.876,85.075L134.557,87.313L129.075,89.532L123.451,91.723L117.709,93.875L111.87,95.978L105.959,98.022L100,100L94.016,101.903L88.032,103.723L82.073,105.453L76.163,107.088L70.325,108.621L64.585,110.048L58.967,111.364L53.492,112.566L48.185,113.651L43.068,114.618L38.162,115.464L33.487,116.189L29.064,116.795L24.911,117.28L21.047,117.648L17.487,117.9L14.246,118.04L11.34,118.07L8.781,117.996L6.579,117.821L4.745,117.551L3.288,117.192L2.213,116.75L1.526,116.232L1.231,115.643L1.33,114.993L1.823,114.288L2.708,113.535L3.984,112.743L5.644,111.92L7.684,111.073L10.095,110.212L12.869,109.342L15.994,108.474L19.457,107.614L23.247,106.769L27.346,105.948L31.74,105.156L36.41,104.402L41.337,103.691L46.503,103.028L51.885,102.421L57.463,101.872L63.214,101.387L69.114,100.971L75.139,100.625L81.265,100.353L87.468,100.157L93.721,100.039\" style=\"fill: black; stroke: black;\"></path></svg>"
      ]
     },
     "execution_count": null,
     "metadata": {},
     "output_type": "execute_result"
    }
   ],
   "source": [
    "const N = 1000;\n",
    "const bound = Math.PI * 2;\n",
    "const theta = [...Array(N).keys()].map(x => x * bound/N)\n",
    "\n",
    "const x = d3.scaleLinear().domain([-1,1]).range([0,200])\n",
    "const y = x\n",
    "\n",
    "const line = d3.line<number>()\n",
    "    .x(th =>  x(Math.sin(10 * th) * Math.cos(th)))\n",
    "    .y(th =>  y(Math.sin(10 * th) * Math.sin(th)))\n",
    "\n",
    "showsvg(svg => { \n",
    "    svg.append(\"path\")\n",
    "       .attr(\"d\", line(theta))\n",
    "       .style(\"fill\", \"black\")\n",
    "       .style(\"stroke\", \"black\")\n",
    "})"
   ]
  },
  {
   "cell_type": "code",
   "execution_count": null,
   "id": "5228e399-a688-47df-8780-6006883264da",
   "metadata": {},
   "outputs": [],
   "source": [
    "- related to my issue: https://github.com/denoland/deno/issues/22508\n",
    "\n",
    "https://github.com/samizdatco/skia-canvas"
   ]
  },
  {
   "cell_type": "code",
   "execution_count": null,
   "id": "a8df2a43-1b50-42a6-8737-dea35b550b8c",
   "metadata": {},
   "outputs": [
    {
     "name": "stdout",
     "output_type": "stream",
     "text": [
      "\u001b[32mDownloading\u001b[39m https://github.com/DjDeveloperr/skia_canvas/releases/download/0.5.4/libnative_canvas_aarch64.dylib\n"
     ]
    },
    {
     "ename": "TypeError",
     "evalue": "Deno.dlopen is not a function",
     "output_type": "error",
     "traceback": [
      "Stack trace:",
      "TypeError: Deno.dlopen is not a function",
      "    at dlopen (https://deno.land/x/plug@1.0.0-rc.3/mod.ts:145:15)",
      "    at eventLoopTick (ext:core/01_core.js:166:7)",
      "    at async https://deno.land/x/skia_canvas@0.5.4/src/ffi.ts:966:10"
     ]
    }
   ],
   "source": [
    "// import { createCanvas } from \"https://deno.land/x/skia_canvas@0.5.4/mod.ts\";\n"
   ]
  },
  {
   "cell_type": "markdown",
   "id": "17f2f109-64e9-4536-874e-612db4e96833",
   "metadata": {},
   "source": [
    "alt: [canvas@v1.4.1 | Deno](https://deno.land/x/canvas@v1.4.1)"
   ]
  },
  {
   "cell_type": "code",
   "execution_count": null,
   "id": "4c4873b6-3312-4308-9126-5a0143936a15",
   "metadata": {},
   "outputs": [],
   "source": [
    "import { createCanvas } from \"https://deno.land/x/canvas/mod.ts\";\n"
   ]
  },
  {
   "cell_type": "code",
   "execution_count": null,
   "id": "b0175272-8838-4fea-9f4c-f0723481ea2a",
   "metadata": {},
   "outputs": [],
   "source": []
  }
 ],
 "metadata": {
  "kernelspec": {
   "display_name": "deno",
   "language": "typescript",
   "name": "deno"
  }
 },
 "nbformat": 4,
 "nbformat_minor": 5
}
