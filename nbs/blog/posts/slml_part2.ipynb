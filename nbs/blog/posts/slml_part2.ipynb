{
 "cells": [
  {
   "cell_type": "raw",
   "metadata": {},
   "source": [
    "---\n",
    "title: \"SLML Part 2 - JPEG to SVG to Stroke-3\"\n",
    "description: Converting JPEG scans to vector paths\n",
    "categories: [singleline, machinelearning, slml]\n",
    "author: Andrew Look\n",
    "date: 2023-11-07\n",
    "image: https://i.ibb.co/D7JyvM2/autotrace-points.png\n",
    "sidebar: false\n",
    "comments:\n",
    "  utterances:\n",
    "    repo: andrewlook/notebooks\n",
    "---"
   ]
  },
  {
   "cell_type": "markdown",
   "metadata": {},
   "source": [
    "---"
   ]
  },
  {
   "cell_type": "markdown",
   "metadata": {},
   "source": [
    "Most computer vision algorithms represent images as a rectangular grid of pixels on a screen. The model that the Magenta team trained, SketchRNN, instead interprets the drawings as a sequence of movements of a pen. They call this “stroke-3 format”, since each step in the sequence is represented by 3 values:\n",
    "- `delta_x`: how much did it move left-to-right?\n",
    "- `delta_y`: how much did it move up-and-down?\n",
    "- `lift_pen`: was the pen down (continuing the current stroke) or was the pen lifted (moving to the start of a new stroke)\n",
    "\n",
    "![stroke3-turtle](https://i.ibb.co/NLBL4v0/stroke3-turtle.png)\n",
    "\n",
    "First, I had to convert my JPEG scans into the “stroke-3” format.  This would involve:\n",
    "\n",
    "1. converting the files from JPEG to SVG\n",
    "2. converting SVG to stroke-3\n",
    "3. simplifying the drawings to reduce the number of points\n",
    "\n",
    "## JPEG to SVG\n",
    "\n",
    "When I first started converting to SVG, I had trouble finding a tool that would give me a single, clean stroke for each line.\n",
    "\n",
    "![potrace-points](https://i.ibb.co/sg3WjzZ/potrace-points.png)\n",
    "\n",
    "\n",
    "Eventually I found a tool called `autotrace` that was able to correctly do a “centerline trace”.\n",
    "\n",
    "![autotrace-points](https://i.ibb.co/D7JyvM2/autotrace-points.png)\n",
    "\n",
    "\n",
    "## SVG to Points\n",
    "\n",
    "Then I used a python library called `svgpathtools` to take the resulting SVG files, and convert each of the paths to a sequence of points. This step is necessary because SVG paths are often represented as Bezier curves. \n",
    "\n",
    "One problem I noticed was that the drawings were represented as many separate strokes rather than one continuous line. For example, in the image below, each color represents a separate pen stroke.\n",
    "\n",
    "![separate strokes](https://i.ibb.co/s21gLTQ/stroke3-01-sepstrokes.png)\n",
    "\n",
    "## Line Simplification\n",
    "\n",
    "Finally, I’d apply the [Ramer-Douglas-Pecker](https://en.wikipedia.org/wiki/Ramer%E2%80%93Douglas%E2%80%93Peucker_algorithm) (\"RDP\") algorithm on the resulting points, which uses an adjustable \"epsilon\" parameter to simplify down the drawings by reducing the number of points in a line's path.\n",
    "\n",
    "![RDP example](https://upload.wikimedia.org/wikipedia/commons/thumb/6/69/RDP%2C_varying_epsilon.gif/440px-RDP%2C_varying_epsilon.gif)\n",
    "\n",
    "This is important because the SketchRNN model has difficulty with sequences longer than a few hundred points, so it’s helpful to simplify the drawings down by removing some of the very fine details while preserving the overall shape.\n",
    "\n",
    "![phase1-sample-0177-epoch-01700-orig](https://i.ibb.co/0JBLg6Q/phase1-sample-0177-epoch-01700-orig.png)"
   ]
  },
  {
   "cell_type": "markdown",
   "metadata": {},
   "source": []
  }
 ],
 "metadata": {
  "kernelspec": {
   "display_name": "python3",
   "language": "python",
   "name": "python3"
  }
 },
 "nbformat": 4,
 "nbformat_minor": 4
}
