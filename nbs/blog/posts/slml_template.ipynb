{
 "cells": [
  {
   "cell_type": "raw",
   "metadata": {},
   "source": [
    "---\n",
    "title: \"SLML Part N - Template\"\n",
    "description: some-description\n",
    "categories: [singleline, machinelearning, slml]\n",
    "author: Andrew Look\n",
    "date: 2023-12-01\n",
    "image: https://i.ibb.co/D7JyvM2/autotrace-points.png\n",
    "comments:\n",
    "  utterances:\n",
    "    repo: andrewlook/notebooks\n",
    "---"
   ]
  },
  {
   "cell_type": "markdown",
   "metadata": {},
   "source": []
  },
  {
   "cell_type": "markdown",
   "metadata": {},
   "source": []
  }
 ],
 "metadata": {
  "kernelspec": {
   "display_name": "python3",
   "language": "python",
   "name": "python3"
  }
 },
 "nbformat": 4,
 "nbformat_minor": 4
}
