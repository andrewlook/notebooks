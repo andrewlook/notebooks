{
 "cells": [
  {
   "cell_type": "raw",
   "metadata": {},
   "source": [
    "---\n",
    "draft: true\n",
    "skip_exec: true\n",
    "sidebar: false\n",
    "---"
   ]
  },
  {
   "cell_type": "markdown",
   "metadata": {},
   "source": [
    "# SLML Datasets Overview"
   ]
  },
  {
   "cell_type": "code",
   "execution_count": null,
   "metadata": {},
   "outputs": [],
   "source": [
    "#| hide\n",
    "%load_ext autoreload\n",
    "%autoreload 2"
   ]
  },
  {
   "cell_type": "code",
   "execution_count": null,
   "metadata": {},
   "outputs": [],
   "source": [
    "#| hide\n",
    "import math\n",
    "from pathlib import Path\n",
    "\n",
    "import pandas as pd\n",
    "import numpy as np\n",
    "from PIL import Image\n",
    "\n",
    "from singleline_dataset.embeddings import *\n",
    "from singleline_dataset.fileorg import *\n",
    "from singleline_dataset.display import *"
   ]
  },
  {
   "cell_type": "markdown",
   "metadata": {},
   "source": [
    "## The Datasets\n",
    "\n",
    "```\n",
    "https://storage.googleapis.com/singleline-datasets/v1/look_f16.npz\n",
    "https://storage.googleapis.com/singleline-datasets/v1/look_f16__minn10_epsilon1.npz\n",
    "https://storage.googleapis.com/singleline-datasets/v1/look_i16.npz\n",
    "https://storage.googleapis.com/singleline-datasets/v1/look_i16__minn10_epsilon1.npz\n",
    "\n",
    "https://storage.googleapis.com/singleline-datasets/v1/v2-splice-maxstrokes5.npz\n",
    "https://storage.googleapis.com/singleline-datasets/v1/v2-splice-maxstrokes6.npz\n",
    "\n",
    "https://storage.googleapis.com/singleline-datasets/v1/epoch-20231214-trainval.npz\n",
    "https://storage.googleapis.com/singleline-datasets/v1/epoch-20231214-filtered-trainval.npz\n",
    "\n",
    "https://storage.googleapis.com/singleline-datasets/v1/epoch20240104_trainval08.npz\n",
    "https://storage.googleapis.com/singleline-datasets/v1/epoch20240104_trainval09.npz\n",
    "\n",
    "https://storage.googleapis.com/singleline-datasets/v1/epoch20240104_furtherfiltered_trainval08.npz\n",
    "https://storage.googleapis.com/singleline-datasets/v1/epoch20240104_furtherfiltered_trainval09.npz\n",
    "\n",
    "https://storage.googleapis.com/singleline-datasets/v1/epoch20240221_expanded10x_trainval.npz\n",
    "```"
   ]
  },
  {
   "cell_type": "code",
   "execution_count": null,
   "metadata": {},
   "outputs": [],
   "source": [
    "DS_0 = 'look_i16.npz'\n",
    "\n",
    "DS_1 = 'look_i16__minn10_epsilon1.npz'\n",
    "\n",
    "DS_2 = 'v2-splice-maxstrokes6.npz'\n",
    "\n",
    "DS_3 = 'epoch-20231214-trainval.npz'\n",
    "DS_4 = 'epoch-20231214-filtered-trainval.npz'\n",
    "\n",
    "DS_5 = 'epoch20240104_trainval09.npz'\n",
    "\n",
    "DS_6 = 'epoch20240104_furtherfiltered_trainval09.npz'\n",
    "\n",
    "DS_7 = 'epoch20240221_expanded10x_trainval.npz'"
   ]
  },
  {
   "cell_type": "code",
   "execution_count": null,
   "metadata": {},
   "outputs": [],
   "source": [
    "BASE_PATH = '/Users/al/code/_svg/singleline_models/data/look'\n",
    "\n",
    "def load_ds(fname, base_path=BASE_PATH):\n",
    "    payload = np.load(Path(base_path) / fname, encoding='latin1', allow_pickle=True)\n",
    "    return payload['train'], payload['valid']"
   ]
  },
  {
   "cell_type": "code",
   "execution_count": null,
   "metadata": {},
   "outputs": [],
   "source": [
    "train0, valid0 = load_ds(DS_0)\n",
    "train1, valid1 = load_ds(DS_1)\n",
    "train2, valid2 = load_ds(DS_2)\n",
    "train3, valid3 = load_ds(DS_3)\n",
    "train4, valid4 = load_ds(DS_4)\n",
    "train5, valid5 = load_ds(DS_5)\n",
    "train6, valid6 = load_ds(DS_6)"
   ]
  },
  {
   "cell_type": "code",
   "execution_count": null,
   "metadata": {},
   "outputs": [
    {
     "data": {
      "text/plain": [
       "(2100, 1300)"
      ]
     },
     "execution_count": null,
     "metadata": {},
     "output_type": "execute_result"
    }
   ],
   "source": [
    "len(train5), len(train6)"
   ]
  },
  {
   "cell_type": "code",
   "execution_count": null,
   "metadata": {},
   "outputs": [
    {
     "data": {
      "text/plain": [
       "(2400, 1800)"
      ]
     },
     "execution_count": null,
     "metadata": {},
     "output_type": "execute_result"
    }
   ],
   "source": [
    "len(train3), len(train4)"
   ]
  },
  {
   "cell_type": "code",
   "execution_count": null,
   "metadata": {},
   "outputs": [
    {
     "data": {
      "text/plain": [
       "(1300, 1200)"
      ]
     },
     "execution_count": null,
     "metadata": {},
     "output_type": "execute_result"
    }
   ],
   "source": [
    "len(train1), len(train2)"
   ]
  },
  {
   "cell_type": "code",
   "execution_count": null,
   "metadata": {},
   "outputs": [],
   "source": [
    "from singleline_dataset.transforms import *\n",
    "\n",
    "\n",
    "def stroke_summary_df(dataset):\n",
    "    summary = [\n",
    "        {\n",
    "            \"idx\": i,\n",
    "            \"num_points\": len(deltas),\n",
    "            \"num_strokes\": len(deltas_to_strokes(deltas)),\n",
    "        }\n",
    "        for i, deltas in enumerate(dataset)\n",
    "    ]\n",
    "    # by_num_strokes = sorted(summary, key=lambda k: k[\"num_strokes\"], reverse=True)\n",
    "    df = pd.DataFrame(summary)\n",
    "    return df"
   ]
  },
  {
   "cell_type": "code",
   "execution_count": null,
   "metadata": {},
   "outputs": [],
   "source": [
    "df0 = stroke_summary_df(train0)\n",
    "df1 = stroke_summary_df(train1)\n",
    "df2 = stroke_summary_df(train2)\n",
    "df3 = stroke_summary_df(train3)\n",
    "df4 = stroke_summary_df(train4)\n",
    "df5 = stroke_summary_df(train5)\n",
    "df6 = stroke_summary_df(train6)\n"
   ]
  },
  {
   "cell_type": "code",
   "execution_count": null,
   "metadata": {},
   "outputs": [
    {
     "data": {
      "text/plain": [
       "<Axes: >"
      ]
     },
     "execution_count": null,
     "metadata": {},
     "output_type": "execute_result"
    },
    {
     "data": {
      "image/png": "[encoded data removed]",
      "text/plain": [
       "<Figure size 432x288 with 1 Axes>"
      ]
     },
     "metadata": {
      "needs_background": "light"
     },
     "output_type": "display_data"
    }
   ],
   "source": [
    "df0.num_points.hist()\n",
    "# df0.num_strokes.hist()"
   ]
  },
  {
   "cell_type": "code",
   "execution_count": null,
   "metadata": {},
   "outputs": [
    {
     "data": {
      "text/plain": [
       "<Axes: >"
      ]
     },
     "execution_count": null,
     "metadata": {},
     "output_type": "execute_result"
    },
    {
     "data": {
      "image/png": "[encoded data removed]",
      "text/plain": [
       "<Figure size 432x288 with 1 Axes>"
      ]
     },
     "metadata": {
      "needs_background": "light"
     },
     "output_type": "display_data"
    }
   ],
   "source": [
    "df1.num_points.hist()"
   ]
  },
  {
   "cell_type": "code",
   "execution_count": null,
   "metadata": {},
   "outputs": [
    {
     "data": {
      "text/plain": [
       "<Axes: >"
      ]
     },
     "execution_count": null,
     "metadata": {},
     "output_type": "execute_result"
    },
    {
     "data": {
      "image/png": "[encoded data removed]",
      "text/plain": [
       "<Figure size 432x288 with 1 Axes>"
      ]
     },
     "metadata": {
      "needs_background": "light"
     },
     "output_type": "display_data"
    }
   ],
   "source": [
    "df2.num_points.hist()"
   ]
  },
  {
   "cell_type": "code",
   "execution_count": null,
   "metadata": {},
   "outputs": [
    {
     "data": {
      "text/plain": [
       "<Axes: >"
      ]
     },
     "execution_count": null,
     "metadata": {},
     "output_type": "execute_result"
    },
    {
     "data": {
      "image/png": "[encoded data removed]",
      "text/plain": [
       "<Figure size 432x288 with 1 Axes>"
      ]
     },
     "metadata": {
      "needs_background": "light"
     },
     "output_type": "display_data"
    }
   ],
   "source": [
    "df3.num_points.hist()"
   ]
  },
  {
   "cell_type": "code",
   "execution_count": null,
   "metadata": {},
   "outputs": [
    {
     "data": {
      "text/plain": [
       "<Axes: >"
      ]
     },
     "execution_count": null,
     "metadata": {},
     "output_type": "execute_result"
    },
    {
     "data": {
      "image/png": "[encoded data removed]",
      "text/plain": [
       "<Figure size 432x288 with 1 Axes>"
      ]
     },
     "metadata": {
      "needs_background": "light"
     },
     "output_type": "display_data"
    }
   ],
   "source": [
    "df4.num_points.hist()"
   ]
  },
  {
   "cell_type": "code",
   "execution_count": null,
   "metadata": {},
   "outputs": [
    {
     "data": {
      "text/plain": [
       "<Axes: >"
      ]
     },
     "execution_count": null,
     "metadata": {},
     "output_type": "execute_result"
    },
    {
     "data": {
      "image/png": "[encoded data removed]",
      "text/plain": [
       "<Figure size 432x288 with 1 Axes>"
      ]
     },
     "metadata": {
      "needs_background": "light"
     },
     "output_type": "display_data"
    }
   ],
   "source": [
    "df5.num_points.hist()"
   ]
  },
  {
   "cell_type": "code",
   "execution_count": null,
   "metadata": {},
   "outputs": [
    {
     "data": {
      "text/plain": [
       "<Axes: >"
      ]
     },
     "execution_count": null,
     "metadata": {},
     "output_type": "execute_result"
    },
    {
     "data": {
      "image/png": "[encoded data removed]",
      "text/plain": [
       "<Figure size 432x288 with 1 Axes>"
      ]
     },
     "metadata": {
      "needs_background": "light"
     },
     "output_type": "display_data"
    }
   ],
   "source": [
    "df6.num_points.hist()"
   ]
  },
  {
   "cell_type": "code",
   "execution_count": null,
   "metadata": {},
   "outputs": [
    {
     "data": {
      "text/plain": [
       "<Axes: >"
      ]
     },
     "execution_count": null,
     "metadata": {},
     "output_type": "execute_result"
    },
    {
     "data": {
      "image/png": "[encoded data removed]",
      "text/plain": [
       "<Figure size 720x720 with 4 Axes>"
      ]
     },
     "metadata": {
      "needs_background": "light"
     },
     "output_type": "display_data"
    }
   ],
   "source": [
    "import matplotlib.pyplot as plt\n",
    "\n",
    "fig, ((ax1, ax2), (ax3, ax4)) = plt.subplots(2, 2, figsize=(10,10))\n",
    "\n",
    "ax1.set_title('num_strokes')\n",
    "df0.num_strokes.hist(ax=ax1)\n",
    "df0.num_points.hist(ax=ax2)"
   ]
  },
  {
   "cell_type": "code",
   "execution_count": null,
   "metadata": {},
   "outputs": [],
   "source": []
  }
 ],
 "metadata": {
  "kernelspec": {
   "display_name": "python3",
   "language": "python",
   "name": "python3"
  }
 },
 "nbformat": 4,
 "nbformat_minor": 4
}
